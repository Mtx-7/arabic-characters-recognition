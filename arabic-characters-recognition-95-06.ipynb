{
 "cells": [
  {
   "cell_type": "code",
   "execution_count": 1,
   "id": "231a1a1c",
   "metadata": {
    "_cell_guid": "b1076dfc-b9ad-4769-8c92-a6c4dae69d19",
    "_uuid": "8f2839f25d086af736a60e9eeb907d3b93b6e0e5",
    "execution": {
     "iopub.execute_input": "2022-10-20T23:46:44.357444Z",
     "iopub.status.busy": "2022-10-20T23:46:44.356629Z",
     "iopub.status.idle": "2022-10-20T23:46:44.368359Z",
     "shell.execute_reply": "2022-10-20T23:46:44.367250Z"
    },
    "papermill": {
     "duration": 0.024629,
     "end_time": "2022-10-20T23:46:44.371567",
     "exception": false,
     "start_time": "2022-10-20T23:46:44.346938",
     "status": "completed"
    },
    "tags": []
   },
   "outputs": [],
   "source": [
    "import numpy as np\n",
    "import pandas as pd\n",
    "import matplotlib.pyplot as plt"
   ]
  },
  {
   "cell_type": "code",
   "execution_count": 2,
   "id": "dd50b537",
   "metadata": {
    "execution": {
     "iopub.execute_input": "2022-10-20T23:46:44.382547Z",
     "iopub.status.busy": "2022-10-20T23:46:44.381995Z",
     "iopub.status.idle": "2022-10-20T23:46:46.743611Z",
     "shell.execute_reply": "2022-10-20T23:46:46.741990Z"
    },
    "papermill": {
     "duration": 2.370101,
     "end_time": "2022-10-20T23:46:46.746484",
     "exception": false,
     "start_time": "2022-10-20T23:46:44.376383",
     "status": "completed"
    },
    "tags": []
   },
   "outputs": [],
   "source": [
    "# Import Our Data\n",
    "x_train = pd.read_csv(\"/kaggle/input/ahcd1/csvTrainImages 13440x1024.csv\")\n",
    "y_train = pd.read_csv(\"/kaggle/input/ahcd1/csvTrainLabel 13440x1.csv\")\n",
    "\n",
    "\n",
    "x_test = pd.read_csv(\"/kaggle/input/ahcd1/csvTestImages 3360x1024.csv\")\n",
    "y_test = pd.read_csv(\"/kaggle/input/ahcd1/csvTestLabel 3360x1.csv\")"
   ]
  },
  {
   "cell_type": "code",
   "execution_count": 3,
   "id": "a259ba64",
   "metadata": {
    "execution": {
     "iopub.execute_input": "2022-10-20T23:46:46.757477Z",
     "iopub.status.busy": "2022-10-20T23:46:46.757071Z",
     "iopub.status.idle": "2022-10-20T23:46:49.205289Z",
     "shell.execute_reply": "2022-10-20T23:46:49.204115Z"
    },
    "papermill": {
     "duration": 2.457803,
     "end_time": "2022-10-20T23:46:49.209037",
     "exception": false,
     "start_time": "2022-10-20T23:46:46.751234",
     "status": "completed"
    },
    "tags": []
   },
   "outputs": [
    {
     "data": {
      "text/html": [
       "<div>\n",
       "<style scoped>\n",
       "    .dataframe tbody tr th:only-of-type {\n",
       "        vertical-align: middle;\n",
       "    }\n",
       "\n",
       "    .dataframe tbody tr th {\n",
       "        vertical-align: top;\n",
       "    }\n",
       "\n",
       "    .dataframe thead th {\n",
       "        text-align: right;\n",
       "    }\n",
       "</style>\n",
       "<table border=\"1\" class=\"dataframe\">\n",
       "  <thead>\n",
       "    <tr style=\"text-align: right;\">\n",
       "      <th></th>\n",
       "      <th>count</th>\n",
       "      <th>mean</th>\n",
       "      <th>std</th>\n",
       "      <th>min</th>\n",
       "      <th>25%</th>\n",
       "      <th>50%</th>\n",
       "      <th>75%</th>\n",
       "      <th>max</th>\n",
       "    </tr>\n",
       "  </thead>\n",
       "  <tbody>\n",
       "    <tr>\n",
       "      <th>0</th>\n",
       "      <td>13439.0</td>\n",
       "      <td>0.121586</td>\n",
       "      <td>2.832441</td>\n",
       "      <td>0.0</td>\n",
       "      <td>0.0</td>\n",
       "      <td>0.0</td>\n",
       "      <td>0.0</td>\n",
       "      <td>128.0</td>\n",
       "    </tr>\n",
       "    <tr>\n",
       "      <th>0.1</th>\n",
       "      <td>13439.0</td>\n",
       "      <td>0.021356</td>\n",
       "      <td>0.956054</td>\n",
       "      <td>0.0</td>\n",
       "      <td>0.0</td>\n",
       "      <td>0.0</td>\n",
       "      <td>0.0</td>\n",
       "      <td>81.0</td>\n",
       "    </tr>\n",
       "    <tr>\n",
       "      <th>0.2</th>\n",
       "      <td>13439.0</td>\n",
       "      <td>0.009748</td>\n",
       "      <td>0.699952</td>\n",
       "      <td>0.0</td>\n",
       "      <td>0.0</td>\n",
       "      <td>0.0</td>\n",
       "      <td>0.0</td>\n",
       "      <td>59.0</td>\n",
       "    </tr>\n",
       "    <tr>\n",
       "      <th>0.3</th>\n",
       "      <td>13439.0</td>\n",
       "      <td>0.011310</td>\n",
       "      <td>0.826084</td>\n",
       "      <td>0.0</td>\n",
       "      <td>0.0</td>\n",
       "      <td>0.0</td>\n",
       "      <td>0.0</td>\n",
       "      <td>87.0</td>\n",
       "    </tr>\n",
       "    <tr>\n",
       "      <th>0.4</th>\n",
       "      <td>13439.0</td>\n",
       "      <td>0.019049</td>\n",
       "      <td>2.199682</td>\n",
       "      <td>0.0</td>\n",
       "      <td>0.0</td>\n",
       "      <td>0.0</td>\n",
       "      <td>0.0</td>\n",
       "      <td>255.0</td>\n",
       "    </tr>\n",
       "    <tr>\n",
       "      <th>...</th>\n",
       "      <td>...</td>\n",
       "      <td>...</td>\n",
       "      <td>...</td>\n",
       "      <td>...</td>\n",
       "      <td>...</td>\n",
       "      <td>...</td>\n",
       "      <td>...</td>\n",
       "      <td>...</td>\n",
       "    </tr>\n",
       "    <tr>\n",
       "      <th>0.901</th>\n",
       "      <td>13439.0</td>\n",
       "      <td>0.355086</td>\n",
       "      <td>7.146457</td>\n",
       "      <td>0.0</td>\n",
       "      <td>0.0</td>\n",
       "      <td>0.0</td>\n",
       "      <td>0.0</td>\n",
       "      <td>255.0</td>\n",
       "    </tr>\n",
       "    <tr>\n",
       "      <th>0.902</th>\n",
       "      <td>13439.0</td>\n",
       "      <td>0.293102</td>\n",
       "      <td>5.845893</td>\n",
       "      <td>0.0</td>\n",
       "      <td>0.0</td>\n",
       "      <td>0.0</td>\n",
       "      <td>0.0</td>\n",
       "      <td>244.0</td>\n",
       "    </tr>\n",
       "    <tr>\n",
       "      <th>0.903</th>\n",
       "      <td>13439.0</td>\n",
       "      <td>0.242131</td>\n",
       "      <td>4.902245</td>\n",
       "      <td>0.0</td>\n",
       "      <td>0.0</td>\n",
       "      <td>0.0</td>\n",
       "      <td>0.0</td>\n",
       "      <td>241.0</td>\n",
       "    </tr>\n",
       "    <tr>\n",
       "      <th>0.904</th>\n",
       "      <td>13439.0</td>\n",
       "      <td>0.306198</td>\n",
       "      <td>5.348775</td>\n",
       "      <td>0.0</td>\n",
       "      <td>0.0</td>\n",
       "      <td>0.0</td>\n",
       "      <td>0.0</td>\n",
       "      <td>224.0</td>\n",
       "    </tr>\n",
       "    <tr>\n",
       "      <th>0.905</th>\n",
       "      <td>13439.0</td>\n",
       "      <td>0.931096</td>\n",
       "      <td>8.753849</td>\n",
       "      <td>0.0</td>\n",
       "      <td>0.0</td>\n",
       "      <td>0.0</td>\n",
       "      <td>0.0</td>\n",
       "      <td>255.0</td>\n",
       "    </tr>\n",
       "  </tbody>\n",
       "</table>\n",
       "<p>1024 rows × 8 columns</p>\n",
       "</div>"
      ],
      "text/plain": [
       "         count      mean       std  min  25%  50%  75%    max\n",
       "0      13439.0  0.121586  2.832441  0.0  0.0  0.0  0.0  128.0\n",
       "0.1    13439.0  0.021356  0.956054  0.0  0.0  0.0  0.0   81.0\n",
       "0.2    13439.0  0.009748  0.699952  0.0  0.0  0.0  0.0   59.0\n",
       "0.3    13439.0  0.011310  0.826084  0.0  0.0  0.0  0.0   87.0\n",
       "0.4    13439.0  0.019049  2.199682  0.0  0.0  0.0  0.0  255.0\n",
       "...        ...       ...       ...  ...  ...  ...  ...    ...\n",
       "0.901  13439.0  0.355086  7.146457  0.0  0.0  0.0  0.0  255.0\n",
       "0.902  13439.0  0.293102  5.845893  0.0  0.0  0.0  0.0  244.0\n",
       "0.903  13439.0  0.242131  4.902245  0.0  0.0  0.0  0.0  241.0\n",
       "0.904  13439.0  0.306198  5.348775  0.0  0.0  0.0  0.0  224.0\n",
       "0.905  13439.0  0.931096  8.753849  0.0  0.0  0.0  0.0  255.0\n",
       "\n",
       "[1024 rows x 8 columns]"
      ]
     },
     "execution_count": 3,
     "metadata": {},
     "output_type": "execute_result"
    }
   ],
   "source": [
    "x_train.describe().T"
   ]
  },
  {
   "cell_type": "code",
   "execution_count": 4,
   "id": "e49e209b",
   "metadata": {
    "execution": {
     "iopub.execute_input": "2022-10-20T23:46:49.222381Z",
     "iopub.status.busy": "2022-10-20T23:46:49.221923Z",
     "iopub.status.idle": "2022-10-20T23:46:49.229976Z",
     "shell.execute_reply": "2022-10-20T23:46:49.228782Z"
    },
    "papermill": {
     "duration": 0.017756,
     "end_time": "2022-10-20T23:46:49.233085",
     "exception": false,
     "start_time": "2022-10-20T23:46:49.215329",
     "status": "completed"
    },
    "tags": []
   },
   "outputs": [
    {
     "data": {
      "text/plain": [
       "Index(['0', '0.1', '0.2', '0.3', '0.4', '0.5', '0.6', '0.7', '0.8', '0.9',\n",
       "       ...\n",
       "       '0.896', '0.897', '0.898', '0.899', '0.900', '0.901', '0.902', '0.903',\n",
       "       '0.904', '0.905'],\n",
       "      dtype='object', length=1024)"
      ]
     },
     "execution_count": 4,
     "metadata": {},
     "output_type": "execute_result"
    }
   ],
   "source": [
    "x_train.keys()"
   ]
  },
  {
   "cell_type": "code",
   "execution_count": 5,
   "id": "376e54b6",
   "metadata": {
    "execution": {
     "iopub.execute_input": "2022-10-20T23:46:49.245081Z",
     "iopub.status.busy": "2022-10-20T23:46:49.244648Z",
     "iopub.status.idle": "2022-10-20T23:46:49.264758Z",
     "shell.execute_reply": "2022-10-20T23:46:49.263594Z"
    },
    "papermill": {
     "duration": 0.029288,
     "end_time": "2022-10-20T23:46:49.267566",
     "exception": false,
     "start_time": "2022-10-20T23:46:49.238278",
     "status": "completed"
    },
    "tags": []
   },
   "outputs": [
    {
     "data": {
      "text/html": [
       "<div>\n",
       "<style scoped>\n",
       "    .dataframe tbody tr th:only-of-type {\n",
       "        vertical-align: middle;\n",
       "    }\n",
       "\n",
       "    .dataframe tbody tr th {\n",
       "        vertical-align: top;\n",
       "    }\n",
       "\n",
       "    .dataframe thead th {\n",
       "        text-align: right;\n",
       "    }\n",
       "</style>\n",
       "<table border=\"1\" class=\"dataframe\">\n",
       "  <thead>\n",
       "    <tr style=\"text-align: right;\">\n",
       "      <th></th>\n",
       "      <th>0</th>\n",
       "      <th>0.1</th>\n",
       "      <th>0.2</th>\n",
       "      <th>0.3</th>\n",
       "      <th>0.4</th>\n",
       "      <th>0.5</th>\n",
       "      <th>0.6</th>\n",
       "      <th>0.7</th>\n",
       "      <th>0.8</th>\n",
       "      <th>0.9</th>\n",
       "      <th>...</th>\n",
       "      <th>0.919</th>\n",
       "      <th>0.920</th>\n",
       "      <th>0.921</th>\n",
       "      <th>0.922</th>\n",
       "      <th>0.923</th>\n",
       "      <th>0.924</th>\n",
       "      <th>0.925</th>\n",
       "      <th>0.926</th>\n",
       "      <th>0.927</th>\n",
       "      <th>0.928</th>\n",
       "    </tr>\n",
       "  </thead>\n",
       "  <tbody>\n",
       "    <tr>\n",
       "      <th>0</th>\n",
       "      <td>0</td>\n",
       "      <td>0</td>\n",
       "      <td>0</td>\n",
       "      <td>0</td>\n",
       "      <td>0</td>\n",
       "      <td>0</td>\n",
       "      <td>0</td>\n",
       "      <td>0</td>\n",
       "      <td>0</td>\n",
       "      <td>0</td>\n",
       "      <td>...</td>\n",
       "      <td>0</td>\n",
       "      <td>0</td>\n",
       "      <td>0</td>\n",
       "      <td>0</td>\n",
       "      <td>0</td>\n",
       "      <td>0</td>\n",
       "      <td>0</td>\n",
       "      <td>0</td>\n",
       "      <td>0</td>\n",
       "      <td>0</td>\n",
       "    </tr>\n",
       "    <tr>\n",
       "      <th>1</th>\n",
       "      <td>0</td>\n",
       "      <td>0</td>\n",
       "      <td>0</td>\n",
       "      <td>0</td>\n",
       "      <td>0</td>\n",
       "      <td>0</td>\n",
       "      <td>0</td>\n",
       "      <td>0</td>\n",
       "      <td>0</td>\n",
       "      <td>0</td>\n",
       "      <td>...</td>\n",
       "      <td>0</td>\n",
       "      <td>0</td>\n",
       "      <td>0</td>\n",
       "      <td>0</td>\n",
       "      <td>0</td>\n",
       "      <td>0</td>\n",
       "      <td>0</td>\n",
       "      <td>0</td>\n",
       "      <td>0</td>\n",
       "      <td>0</td>\n",
       "    </tr>\n",
       "    <tr>\n",
       "      <th>2</th>\n",
       "      <td>0</td>\n",
       "      <td>0</td>\n",
       "      <td>0</td>\n",
       "      <td>0</td>\n",
       "      <td>0</td>\n",
       "      <td>0</td>\n",
       "      <td>0</td>\n",
       "      <td>0</td>\n",
       "      <td>0</td>\n",
       "      <td>0</td>\n",
       "      <td>...</td>\n",
       "      <td>0</td>\n",
       "      <td>0</td>\n",
       "      <td>0</td>\n",
       "      <td>0</td>\n",
       "      <td>0</td>\n",
       "      <td>0</td>\n",
       "      <td>0</td>\n",
       "      <td>0</td>\n",
       "      <td>0</td>\n",
       "      <td>0</td>\n",
       "    </tr>\n",
       "    <tr>\n",
       "      <th>3</th>\n",
       "      <td>0</td>\n",
       "      <td>0</td>\n",
       "      <td>0</td>\n",
       "      <td>0</td>\n",
       "      <td>0</td>\n",
       "      <td>0</td>\n",
       "      <td>0</td>\n",
       "      <td>0</td>\n",
       "      <td>0</td>\n",
       "      <td>0</td>\n",
       "      <td>...</td>\n",
       "      <td>0</td>\n",
       "      <td>0</td>\n",
       "      <td>0</td>\n",
       "      <td>0</td>\n",
       "      <td>0</td>\n",
       "      <td>0</td>\n",
       "      <td>0</td>\n",
       "      <td>0</td>\n",
       "      <td>0</td>\n",
       "      <td>0</td>\n",
       "    </tr>\n",
       "    <tr>\n",
       "      <th>4</th>\n",
       "      <td>0</td>\n",
       "      <td>0</td>\n",
       "      <td>0</td>\n",
       "      <td>0</td>\n",
       "      <td>0</td>\n",
       "      <td>0</td>\n",
       "      <td>0</td>\n",
       "      <td>0</td>\n",
       "      <td>0</td>\n",
       "      <td>0</td>\n",
       "      <td>...</td>\n",
       "      <td>0</td>\n",
       "      <td>0</td>\n",
       "      <td>0</td>\n",
       "      <td>0</td>\n",
       "      <td>0</td>\n",
       "      <td>0</td>\n",
       "      <td>0</td>\n",
       "      <td>0</td>\n",
       "      <td>0</td>\n",
       "      <td>0</td>\n",
       "    </tr>\n",
       "  </tbody>\n",
       "</table>\n",
       "<p>5 rows × 1024 columns</p>\n",
       "</div>"
      ],
      "text/plain": [
       "   0  0.1  0.2  0.3  0.4  0.5  0.6  0.7  0.8  0.9  ...  0.919  0.920  0.921  \\\n",
       "0  0    0    0    0    0    0    0    0    0    0  ...      0      0      0   \n",
       "1  0    0    0    0    0    0    0    0    0    0  ...      0      0      0   \n",
       "2  0    0    0    0    0    0    0    0    0    0  ...      0      0      0   \n",
       "3  0    0    0    0    0    0    0    0    0    0  ...      0      0      0   \n",
       "4  0    0    0    0    0    0    0    0    0    0  ...      0      0      0   \n",
       "\n",
       "   0.922  0.923  0.924  0.925  0.926  0.927  0.928  \n",
       "0      0      0      0      0      0      0      0  \n",
       "1      0      0      0      0      0      0      0  \n",
       "2      0      0      0      0      0      0      0  \n",
       "3      0      0      0      0      0      0      0  \n",
       "4      0      0      0      0      0      0      0  \n",
       "\n",
       "[5 rows x 1024 columns]"
      ]
     },
     "execution_count": 5,
     "metadata": {},
     "output_type": "execute_result"
    }
   ],
   "source": [
    "x_test.head()"
   ]
  },
  {
   "cell_type": "code",
   "execution_count": 6,
   "id": "23bac8ab",
   "metadata": {
    "execution": {
     "iopub.execute_input": "2022-10-20T23:46:49.280243Z",
     "iopub.status.busy": "2022-10-20T23:46:49.279795Z",
     "iopub.status.idle": "2022-10-20T23:46:49.290402Z",
     "shell.execute_reply": "2022-10-20T23:46:49.289124Z"
    },
    "papermill": {
     "duration": 0.019857,
     "end_time": "2022-10-20T23:46:49.292928",
     "exception": false,
     "start_time": "2022-10-20T23:46:49.273071",
     "status": "completed"
    },
    "tags": []
   },
   "outputs": [
    {
     "data": {
      "text/html": [
       "<div>\n",
       "<style scoped>\n",
       "    .dataframe tbody tr th:only-of-type {\n",
       "        vertical-align: middle;\n",
       "    }\n",
       "\n",
       "    .dataframe tbody tr th {\n",
       "        vertical-align: top;\n",
       "    }\n",
       "\n",
       "    .dataframe thead th {\n",
       "        text-align: right;\n",
       "    }\n",
       "</style>\n",
       "<table border=\"1\" class=\"dataframe\">\n",
       "  <thead>\n",
       "    <tr style=\"text-align: right;\">\n",
       "      <th></th>\n",
       "      <th>1</th>\n",
       "    </tr>\n",
       "  </thead>\n",
       "  <tbody>\n",
       "    <tr>\n",
       "      <th>0</th>\n",
       "      <td>1</td>\n",
       "    </tr>\n",
       "    <tr>\n",
       "      <th>1</th>\n",
       "      <td>2</td>\n",
       "    </tr>\n",
       "    <tr>\n",
       "      <th>2</th>\n",
       "      <td>2</td>\n",
       "    </tr>\n",
       "    <tr>\n",
       "      <th>3</th>\n",
       "      <td>3</td>\n",
       "    </tr>\n",
       "    <tr>\n",
       "      <th>4</th>\n",
       "      <td>3</td>\n",
       "    </tr>\n",
       "  </tbody>\n",
       "</table>\n",
       "</div>"
      ],
      "text/plain": [
       "   1\n",
       "0  1\n",
       "1  2\n",
       "2  2\n",
       "3  3\n",
       "4  3"
      ]
     },
     "execution_count": 6,
     "metadata": {},
     "output_type": "execute_result"
    }
   ],
   "source": [
    "y_test.head()"
   ]
  },
  {
   "cell_type": "code",
   "execution_count": 7,
   "id": "f8cd6475",
   "metadata": {
    "execution": {
     "iopub.execute_input": "2022-10-20T23:46:49.307253Z",
     "iopub.status.busy": "2022-10-20T23:46:49.305799Z",
     "iopub.status.idle": "2022-10-20T23:46:49.314052Z",
     "shell.execute_reply": "2022-10-20T23:46:49.312479Z"
    },
    "papermill": {
     "duration": 0.018156,
     "end_time": "2022-10-20T23:46:49.316785",
     "exception": false,
     "start_time": "2022-10-20T23:46:49.298629",
     "status": "completed"
    },
    "tags": []
   },
   "outputs": [
    {
     "name": "stdout",
     "output_type": "stream",
     "text": [
      "Dim of x_train ==> (13439, 1024)\n",
      "Dim of y_train ==> (13439, 1)\n",
      "Dim of x_test ==> (3359, 1024)\n",
      "Dim of y_test ==> (3359, 1)\n"
     ]
    }
   ],
   "source": [
    "print(\"Dim of x_train ==>\",x_train.shape)\n",
    "print(\"Dim of y_train ==>\",y_train.shape)\n",
    "print(\"Dim of x_test ==>\",x_test.shape)\n",
    "print(\"Dim of y_test ==>\",y_test.shape)"
   ]
  },
  {
   "cell_type": "code",
   "execution_count": 8,
   "id": "6360878b",
   "metadata": {
    "execution": {
     "iopub.execute_input": "2022-10-20T23:46:49.329627Z",
     "iopub.status.busy": "2022-10-20T23:46:49.329217Z",
     "iopub.status.idle": "2022-10-20T23:46:49.336928Z",
     "shell.execute_reply": "2022-10-20T23:46:49.335502Z"
    },
    "papermill": {
     "duration": 0.01722,
     "end_time": "2022-10-20T23:46:49.339700",
     "exception": false,
     "start_time": "2022-10-20T23:46:49.322480",
     "status": "completed"
    },
    "tags": []
   },
   "outputs": [
    {
     "name": "stdout",
     "output_type": "stream",
     "text": [
      "[ 1  2  3  4  5  6  7  8  9 10 11 12 13 14 15 16 17 18 19 20 21 22 23 24\n",
      " 25 26 27 28]\n",
      "[ 1  2  3  4  5  6  7  8  9 10 11 12 13 14 15 16 17 18 19 20 21 22 23 24\n",
      " 25 26 27 28]\n"
     ]
    }
   ],
   "source": [
    "print(np.unique(y_train))\n",
    "print(np.unique(y_test))"
   ]
  },
  {
   "cell_type": "code",
   "execution_count": 9,
   "id": "e8b073d2",
   "metadata": {
    "execution": {
     "iopub.execute_input": "2022-10-20T23:46:49.352932Z",
     "iopub.status.busy": "2022-10-20T23:46:49.352264Z",
     "iopub.status.idle": "2022-10-20T23:46:49.410456Z",
     "shell.execute_reply": "2022-10-20T23:46:49.408617Z"
    },
    "papermill": {
     "duration": 0.068247,
     "end_time": "2022-10-20T23:46:49.413675",
     "exception": false,
     "start_time": "2022-10-20T23:46:49.345428",
     "status": "completed"
    },
    "tags": []
   },
   "outputs": [],
   "source": [
    "# Converting dataframe to list format\n",
    "x_train = np.array(x_train)\n",
    "x_test = np.array(x_test)\n",
    "\n",
    "y_train = np.array(y_train)\n",
    "y_test = np.array(y_test)\n",
    "\n"
   ]
  },
  {
   "cell_type": "code",
   "execution_count": 10,
   "id": "9be87569",
   "metadata": {
    "execution": {
     "iopub.execute_input": "2022-10-20T23:46:49.428554Z",
     "iopub.status.busy": "2022-10-20T23:46:49.427994Z",
     "iopub.status.idle": "2022-10-20T23:46:49.436773Z",
     "shell.execute_reply": "2022-10-20T23:46:49.435351Z"
    },
    "papermill": {
     "duration": 0.019883,
     "end_time": "2022-10-20T23:46:49.439530",
     "exception": false,
     "start_time": "2022-10-20T23:46:49.419647",
     "status": "completed"
    },
    "tags": []
   },
   "outputs": [
    {
     "data": {
      "text/plain": [
       "(13439, 1024)"
      ]
     },
     "execution_count": 10,
     "metadata": {},
     "output_type": "execute_result"
    }
   ],
   "source": [
    "x_train.shape"
   ]
  },
  {
   "cell_type": "code",
   "execution_count": 11,
   "id": "f9c9c51d",
   "metadata": {
    "execution": {
     "iopub.execute_input": "2022-10-20T23:46:49.453070Z",
     "iopub.status.busy": "2022-10-20T23:46:49.452585Z",
     "iopub.status.idle": "2022-10-20T23:46:49.459030Z",
     "shell.execute_reply": "2022-10-20T23:46:49.457691Z"
    },
    "papermill": {
     "duration": 0.016326,
     "end_time": "2022-10-20T23:46:49.461814",
     "exception": false,
     "start_time": "2022-10-20T23:46:49.445488",
     "status": "completed"
    },
    "tags": []
   },
   "outputs": [],
   "source": [
    "# Reshape the image shape into 32 x 32\n",
    "x_train = x_train.reshape(x_train.shape[0],32,32)\n",
    "x_test = x_test.reshape(x_test.shape[0],32,32)"
   ]
  },
  {
   "cell_type": "code",
   "execution_count": 12,
   "id": "67a149ae",
   "metadata": {
    "execution": {
     "iopub.execute_input": "2022-10-20T23:46:49.475458Z",
     "iopub.status.busy": "2022-10-20T23:46:49.475005Z",
     "iopub.status.idle": "2022-10-20T23:46:50.451732Z",
     "shell.execute_reply": "2022-10-20T23:46:50.450747Z"
    },
    "papermill": {
     "duration": 0.986689,
     "end_time": "2022-10-20T23:46:50.454252",
     "exception": false,
     "start_time": "2022-10-20T23:46:49.467563",
     "status": "completed"
    },
    "tags": []
   },
   "outputs": [
    {
     "data": {
      "image/png": "[encoded data removed]",
      "text/plain": [
       "<Figure size 1152x576 with 9 Axes>"
      ]
     },
     "metadata": {
      "needs_background": "light"
     },
     "output_type": "display_data"
    }
   ],
   "source": [
    "fig, ax = plt.subplots(3,3, figsize = (16, 8))\n",
    "\n",
    "for i in range(3):\n",
    "    for j in range(3):\n",
    "        ax[i,j].imshow(x_train[np.random.randint(0,x_train.shape[0])])"
   ]
  },
  {
   "cell_type": "code",
   "execution_count": 13,
   "id": "47a95dd1",
   "metadata": {
    "execution": {
     "iopub.execute_input": "2022-10-20T23:46:50.468873Z",
     "iopub.status.busy": "2022-10-20T23:46:50.468105Z",
     "iopub.status.idle": "2022-10-20T23:46:50.561715Z",
     "shell.execute_reply": "2022-10-20T23:46:50.560392Z"
    },
    "papermill": {
     "duration": 0.10448,
     "end_time": "2022-10-20T23:46:50.565071",
     "exception": false,
     "start_time": "2022-10-20T23:46:50.460591",
     "status": "completed"
    },
    "tags": []
   },
   "outputs": [],
   "source": [
    "# Normalization\n",
    "x_train = x_train/np.max(x_train)\n",
    "x_test = x_test/np.max(x_train)"
   ]
  },
  {
   "cell_type": "code",
   "execution_count": 14,
   "id": "9880f8b7",
   "metadata": {
    "execution": {
     "iopub.execute_input": "2022-10-20T23:46:50.579851Z",
     "iopub.status.busy": "2022-10-20T23:46:50.579475Z",
     "iopub.status.idle": "2022-10-20T23:46:50.587846Z",
     "shell.execute_reply": "2022-10-20T23:46:50.586711Z"
    },
    "papermill": {
     "duration": 0.018304,
     "end_time": "2022-10-20T23:46:50.590233",
     "exception": false,
     "start_time": "2022-10-20T23:46:50.571929",
     "status": "completed"
    },
    "tags": []
   },
   "outputs": [
    {
     "data": {
      "text/plain": [
       "array([ 1,  2,  3,  4,  5,  6,  7,  8,  9, 10, 11, 12, 13, 14, 15, 16, 17,\n",
       "       18, 19, 20, 21, 22, 23, 24, 25, 26, 27, 28])"
      ]
     },
     "execution_count": 14,
     "metadata": {},
     "output_type": "execute_result"
    }
   ],
   "source": [
    "np.unique(y_train)"
   ]
  },
  {
   "cell_type": "code",
   "execution_count": 15,
   "id": "385fb1df",
   "metadata": {
    "execution": {
     "iopub.execute_input": "2022-10-20T23:46:50.604631Z",
     "iopub.status.busy": "2022-10-20T23:46:50.604204Z",
     "iopub.status.idle": "2022-10-20T23:46:50.609524Z",
     "shell.execute_reply": "2022-10-20T23:46:50.608703Z"
    },
    "papermill": {
     "duration": 0.015494,
     "end_time": "2022-10-20T23:46:50.611934",
     "exception": false,
     "start_time": "2022-10-20T23:46:50.596440",
     "status": "completed"
    },
    "tags": []
   },
   "outputs": [
    {
     "name": "stdout",
     "output_type": "stream",
     "text": [
      "29\n"
     ]
    }
   ],
   "source": [
    "# One hot encoding of labels\n",
    "total_classes = len(np.unique(y_train))+1\n",
    "print(total_classes)"
   ]
  },
  {
   "cell_type": "code",
   "execution_count": null,
   "id": "2ad221ed",
   "metadata": {
    "papermill": {
     "duration": 0.0058,
     "end_time": "2022-10-20T23:46:50.625295",
     "exception": false,
     "start_time": "2022-10-20T23:46:50.619495",
     "status": "completed"
    },
    "tags": []
   },
   "outputs": [],
   "source": []
  }
 ],
 "metadata": {
  "kernelspec": {
   "display_name": "Python 3",
   "language": "python",
   "name": "python3"
  },
  "language_info": {
   "codemirror_mode": {
    "name": "ipython",
    "version": 3
   },
   "file_extension": ".py",
   "mimetype": "text/x-python",
   "name": "python",
   "nbconvert_exporter": "python",
   "pygments_lexer": "ipython3",
   "version": "3.7.12"
  },
  "papermill": {
   "default_parameters": {},
   "duration": 16.025552,
   "end_time": "2022-10-20T23:46:51.354299",
   "environment_variables": {},
   "exception": null,
   "input_path": "__notebook__.ipynb",
   "output_path": "__notebook__.ipynb",
   "parameters": {},
   "start_time": "2022-10-20T23:46:35.328747",
   "version": "2.3.4"
  }
 },
 "nbformat": 4,
 "nbformat_minor": 5
}
